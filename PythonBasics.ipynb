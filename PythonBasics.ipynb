{
  "nbformat": 4,
  "nbformat_minor": 0,
  "metadata": {
    "colab": {
      "provenance": []
    },
    "kernelspec": {
      "name": "python3",
      "display_name": "Python 3"
    },
    "language_info": {
      "name": "python"
    }
  },
  "cells": [
    {
      "cell_type": "markdown",
      "source": [
        "# PYTHON BASICS (ASSIGNMENT 1)\n"
      ],
      "metadata": {
        "id": "qVkGI4n5rLbj"
      }
    },
    {
      "cell_type": "markdown",
      "source": [
        "\n",
        "\n",
        "---\n",
        "\n"
      ],
      "metadata": {
        "id": "tUfcqOuwWOJH"
      }
    },
    {
      "cell_type": "markdown",
      "source": [
        "Q1. What is Python, and why is it popular?\n",
        "  - Python is a high level programming language that is widely used today in many fields like data science, automation and artificial intelligence. It helps us give instructions to the computer in clear way. One big reason why Python is so popular is that it is very easy to learn for beginners. The rules of writing code or syntax in Python is simple and looks like normal English. Python also has many stored libraries and tools that helps in doing complicated tasks. It is also widely used by big companies like Google, Netflix and YouTube. Another reason for its popularity is that it has a large community of learners as it has wide range of support available."
      ],
      "metadata": {
        "id": "-4H2vBR9SN3C"
      }
    },
    {
      "cell_type": "markdown",
      "source": [
        "Q2. What is an interpreter in Python?\n",
        "  - An interpreter in Python is a special program that reads and runs the Python code line by line. It checks each line one at a time and shows the result immediately. This helps us easily find mistakes and fix them while writing the code. Because of the this we don't have to wait for the whole program to run at last, it shows the output step by step. This is one reason why Python is good for learning and testing small pieces of code."
      ],
      "metadata": {
        "id": "oFA7Nle_StCd"
      }
    },
    {
      "cell_type": "markdown",
      "source": [
        "Q3. What are pre-defined keywords in Python?\n",
        " -  Pre-defined keywords in Python are special words that have a fixed meaning and purpose in the language. We cannot use them for anything else like variable names because they are already reserved by Python. These keywords help Python understand what kind of action we want to perform in our code. For example, words like if, else, while, for, True and False are all keywords. They are used to write conditions, loops and other important parts of a program. Python has a set of these keywords that we must use correctly for the code to work."
      ],
      "metadata": {
        "id": "VIyLiUlATGQv"
      }
    },
    {
      "cell_type": "markdown",
      "source": [
        "Q4. Can keywords be used as variable names?\n",
        "  - Keywords cannot be used as variable names in Python. This is because keywords already have a special meaning in the language and they are used to perform specific tasks like writing conditions and defining functions. If they are used as a variable name, Python will get confused and show an error. For example, we can't use words like if, while, or True as variable names because they are already reserved by Python."
      ],
      "metadata": {
        "id": "gNK-Ntm5TPrW"
      }
    },
    {
      "cell_type": "markdown",
      "source": [
        "Q5. What is mutability in Python?\n",
        "  - Mutability in Python means whether a value or object can be changed after it is created. If something is mutable it means we can change its content without changing its place in memory. For example, lists are mutable and we can add, remove or change items in a list. On the other hand, if something is immutable it means we cannot change it once it is made. For example, strings and tuples are immutable and if we try to change them Python will create a new object instead."
      ],
      "metadata": {
        "id": "mISvaX2wTW06"
      }
    },
    {
      "cell_type": "markdown",
      "source": [
        "Q6. Why are lists mutable but tuples are immutable?\n",
        "  - Lists are mutable because they are made in a way that allows us to change, add or remove items after the list is created. This makes lists useful when we need to work with data that can change during the program. On the other hand, tuples are immutable, which means we cannot change their values once they are created. This is because tuples are used when we want the data to stay fixed and safe from accidental changes. Python makes tuples immutable to protect the data and make the program run faster and more securely in some cases."
      ],
      "metadata": {
        "id": "8dTyeeLgTigb"
      }
    },
    {
      "cell_type": "markdown",
      "source": [
        "Q7. What is the difference between \"==\" and \"is\" operators in Python?\n",
        "  - In Python, the “==” operator is used to check if two values are equal or if they look the same. But the “is” operator checks if two variables point to the same memory location which means they are the exact same object. For example, if two lists have the same items, == will say they are equal, but is may say they are not the same object. So, == is about comparing values, while is is about checking identity in the memory."
      ],
      "metadata": {
        "id": "PgvroipLTn8y"
      }
    },
    {
      "cell_type": "markdown",
      "source": [
        "Q8. What are logical operators in Python?\n",
        "  - Logical operators in Python are used to connect two or more conditions and help us decide if something is true or false. There are three main logical operators: and, or and not. The and operator returns True only if both conditions are true. The or operator returns True if at least one of the conditions is true. The not operator is used to reverse the result if something is true, not makes it false and if something is false, not makes it true. These operators are commonly used in if-statements or while-loops to check multiple\n",
        "conditions at once."
      ],
      "metadata": {
        "id": "oU-S8H2_Tt_q"
      }
    },
    {
      "cell_type": "markdown",
      "source": [
        "Q9. What is type casting in Python?\n",
        "  - Type casting in Python means changing the data type of a value from one type to another. For example, we can convert a number into a string or a string into an integer using type casting. This is useful when we want to perform operations that need a specific data type. Python has built-in functions like int(), float(), and str() that help us do type casting. For example, if we write int(\"5\") it will change the string \"5\" into the number 5. Type casting helps us work with different kinds of data smoothly in a program."
      ],
      "metadata": {
        "id": "cgUsqNFXT1Hw"
      }
    },
    {
      "cell_type": "markdown",
      "source": [
        "Q10. What is the difference between implicit and explicit type casting?\n",
        "  - In Python the implicit type casting happens automatically when Python changes one data type to another without us telling it to. For example, if we add an integer and a float it will automatically convert the integer into a float. This helps avoid errors and makes calculations smooth. On the other hand, explicit type casting is when we manually convert one data type into another using functions like int(), float(), or str(). We use explicit casting when we know we need to change the type for a specific purpose. So, the main difference is that implicit casting is done by Python on its own while explicit casting is done by the programmer on purpose."
      ],
      "metadata": {
        "id": "g_EOU8n5UA6f"
      }
    },
    {
      "cell_type": "markdown",
      "source": [
        "Q11. What is the purpose of conditional statements in Python?\n",
        "  - The purpose of conditional statements in Python is to help the program make decisions based on certain conditions. These statements check if something is true or false and then run different blocks of code depending on the result. The most common conditional statements are if, elif and else. For example, if a condition is true, the if block will run. If not Python will check other conditions using elif and if none of them are true it will run the else block."
      ],
      "metadata": {
        "id": "l2aLdjurUEvx"
      }
    },
    {
      "cell_type": "markdown",
      "source": [
        "Q12. How does the elif statement work?\n",
        "  - The elif statement in Python stands for \"else if,\" and it is used to check another condition if the first if condition is false. It helps us test multiple possibilities one after another. If the if condition is not true Python moves to check the elif condition. If that is true it runs the code inside it. We can use as many elif statements as we want between if and else. By this the program can choose the correct block of code to run based on which condition is true first."
      ],
      "metadata": {
        "id": "FbdwlYV0UK9x"
      }
    },
    {
      "cell_type": "markdown",
      "source": [
        "Q13. What is the difference between for and while loops?\n",
        "  - In Python both for and while loops are used to repeat a block of code but they work in different ways. The for loop is used when we know exactly how many times we want to run the loop. For example, we use it to go through items in a list or run a loop a fixed number of times. The while loop is used when we don't know the exact number of times, and we want the loop to keep running as long as a certain condition is true. The main difference is that for loops are used for fixed repetitions and while loops are used when the number of repetitions depends on a condition."
      ],
      "metadata": {
        "id": "1xx_5rN8URSk"
      }
    },
    {
      "cell_type": "markdown",
      "source": [
        "Q14. Describe a scenario where a while loop is more suitable than a for loop.\n",
        "  - A \"while\" loop is more suitable than a \"for\" loop when the number of iterations is not known beforehand, or when the loop's termination depends on a condition that can change during the loop's execution. Let's Consider a scenario where we need to read user input until a specific word, like \"quit\", is entered. As we don't know how many inputs the user will provide. A while loop is ideal here because the loop continues as long as the input is not \"quit\".\n",
        "\n",
        "     Example:\n",
        "Python\n",
        "user_input = \"\"\n",
        "while user_input != \"quit\":\n",
        "  user_input = input(\"Enter a word ('quit' to exit): \")\n",
        "  print(\"You entered:\", user_input)\n",
        "\n",
        "    In this example, the loop continues until the user types \"quit\", and the number of iterations is not fixed. A for loop would not be appropriate because it requires a predefined sequence or range for iteration, which is absent in this case."
      ],
      "metadata": {
        "id": "igucqhsxUWhL"
      }
    },
    {
      "cell_type": "markdown",
      "source": [
        "\n",
        "\n",
        "---\n",
        "\n"
      ],
      "metadata": {
        "id": "xETjFc0hWWIu"
      }
    },
    {
      "cell_type": "code",
      "source": [
        "# Q1. Write a Python program to print \"Hello, World!\"\n",
        "\n",
        "print(\"Hello, World!\")\n"
      ],
      "metadata": {
        "colab": {
          "base_uri": "https://localhost:8080/"
        },
        "id": "JhkwosdrWVPk",
        "outputId": "2349655b-859a-47b9-9f89-2647b13c5d1f"
      },
      "execution_count": 1,
      "outputs": [
        {
          "output_type": "stream",
          "name": "stdout",
          "text": [
            "Hello, World!\n"
          ]
        }
      ]
    },
    {
      "cell_type": "code",
      "source": [
        "# Q2. Write a Python program that displays your name and age.\n",
        "\n",
        "print(\"Name - Pranav Mehra  Age - 22 years old.\")\n"
      ],
      "metadata": {
        "colab": {
          "base_uri": "https://localhost:8080/"
        },
        "id": "Twa5bSPuW2M6",
        "outputId": "d55323f2-443d-43e6-91f7-79509bface80"
      },
      "execution_count": 4,
      "outputs": [
        {
          "output_type": "stream",
          "name": "stdout",
          "text": [
            "Name - Pranav Mehra  Age - 22 years old.\n"
          ]
        }
      ]
    },
    {
      "cell_type": "code",
      "source": [
        "# Q3. Write code to print all the pre-defined keywords in Python using the keyword library.\n",
        "help(\"keywords\")"
      ],
      "metadata": {
        "colab": {
          "base_uri": "https://localhost:8080/"
        },
        "id": "EcpahIaNXXsu",
        "outputId": "1eed41f4-10c4-4ad3-b036-e30176a0b50b"
      },
      "execution_count": 5,
      "outputs": [
        {
          "output_type": "stream",
          "name": "stdout",
          "text": [
            "\n",
            "Here is a list of the Python keywords.  Enter any keyword to get more help.\n",
            "\n",
            "False               class               from                or\n",
            "None                continue            global              pass\n",
            "True                def                 if                  raise\n",
            "and                 del                 import              return\n",
            "as                  elif                in                  try\n",
            "assert              else                is                  while\n",
            "async               except              lambda              with\n",
            "await               finally             nonlocal            yield\n",
            "break               for                 not                 \n",
            "\n"
          ]
        }
      ]
    },
    {
      "cell_type": "code",
      "source": [
        "# Q4. Write a program that checks if a given word is a Python keyword\n",
        "\n",
        "import keyword\n",
        "\n",
        "# Asking the user to enter a word\n",
        "word = input(\"Enter a word: \")\n",
        "\n",
        "# Checking if the word is a Python keyword\n",
        "if keyword.iskeyword(word):\n",
        "    print(f\"'{word}' is a Python keyword.\")\n",
        "else:\n",
        "    print(f\"'{word}' is NOT a Python keyword.\")\n",
        "\n"
      ],
      "metadata": {
        "colab": {
          "base_uri": "https://localhost:8080/"
        },
        "id": "7iYj6M_3Y1Ka",
        "outputId": "33be40a9-92bd-4e76-94ac-23213aa6f75e"
      },
      "execution_count": 9,
      "outputs": [
        {
          "output_type": "stream",
          "name": "stdout",
          "text": [
            "Enter a word: if\n",
            "'if' is a Python keyword.\n"
          ]
        }
      ]
    },
    {
      "cell_type": "code",
      "source": [
        "# Q5. Create a list and tuple in Python, and demonstrate how attempting to change an element works differently for each\n",
        "\n",
        "# Creating a list and a tuple\n",
        "my_list = [10, 20, 30]\n",
        "my_tuple = (10, 20, 30)\n",
        "\n",
        "# Changing an element in the list (works)\n",
        "my_list[1] = 99\n",
        "print(\"Modified list:\", my_list)\n",
        "\n",
        "# Trying to change an element in the tuple (gives error)\n",
        "try:\n",
        "    my_tuple[1] = 99\n",
        "except TypeError as e:\n",
        "    print(\"Error while modifying tuple:\", e)\n"
      ],
      "metadata": {
        "colab": {
          "base_uri": "https://localhost:8080/"
        },
        "id": "2dT_fwxOY7tc",
        "outputId": "c9ae2360-5a3f-41e1-ca16-86b5c4bad9b1"
      },
      "execution_count": 10,
      "outputs": [
        {
          "output_type": "stream",
          "name": "stdout",
          "text": [
            "Modified list: [10, 99, 30]\n",
            "Error while modifying tuple: 'tuple' object does not support item assignment\n"
          ]
        }
      ]
    },
    {
      "cell_type": "code",
      "source": [
        "# Q6. Write a function to demonstrate the behavior of mutable and immutable arguments.\n",
        "\n",
        "# Function to modify arguments\n",
        "def modify_values(a, b):\n",
        "    a += 10          # Try to modify immutable (int)\n",
        "    b.append(100)     # Try to modify mutable (list)\n",
        "    print(\"Inside function - a:\", a)\n",
        "    print(\"Inside function - b:\", b)\n",
        "\n",
        "# Immutable argument (int)\n",
        "num = 5\n",
        "\n",
        "# Mutable argument (list)\n",
        "my_list = [1, 2, 3]\n",
        "\n",
        "# Call the function\n",
        "modify_values(num, my_list)\n",
        "\n",
        "# Print after function call\n",
        "print(\"Outside function - num:\", num)\n",
        "print(\"Outside function - my_list:\", my_list)\n"
      ],
      "metadata": {
        "colab": {
          "base_uri": "https://localhost:8080/"
        },
        "id": "ojPo6ebnZZZ6",
        "outputId": "24df9444-24b2-4da9-e804-06d77f485474"
      },
      "execution_count": 12,
      "outputs": [
        {
          "output_type": "stream",
          "name": "stdout",
          "text": [
            "Inside function - a: 15\n",
            "Inside function - b: [1, 2, 3, 100]\n",
            "Outside function - num: 5\n",
            "Outside function - my_list: [1, 2, 3, 100]\n"
          ]
        }
      ]
    },
    {
      "cell_type": "code",
      "source": [
        "# Q7. Write a program that performs basic arithmetic operations on two user-input numbers\n",
        "\n",
        "# Asking user to enter two numbers\n",
        "num1 = float(input(\"Enter the first number: \"))\n",
        "num2 = float(input(\"Enter the second number: \"))\n",
        "\n",
        "# Performing arithmetic operations\n",
        "print(\"Addition:\", num1 + num2)\n",
        "print(\"Subtraction:\", num1 - num2)\n",
        "print(\"Multiplication:\", num1 * num2)\n",
        "\n",
        "# Checking for division by zero\n",
        "if num2 != 0:\n",
        "    print(\"Division:\", num1 / num2)\n",
        "else:\n",
        "    print(\"Division: Cannot divide by zero\")\n"
      ],
      "metadata": {
        "colab": {
          "base_uri": "https://localhost:8080/"
        },
        "id": "IVnsmaCHZ5Ks",
        "outputId": "cad9b2bd-a48d-48ad-8fbc-afc087369acf"
      },
      "execution_count": 15,
      "outputs": [
        {
          "output_type": "stream",
          "name": "stdout",
          "text": [
            "Enter the first number: 10\n",
            "Enter the second number: 5\n",
            "Addition: 15.0\n",
            "Subtraction: 5.0\n",
            "Multiplication: 50.0\n",
            "Division: 2.0\n"
          ]
        }
      ]
    },
    {
      "cell_type": "code",
      "source": [
        "# Q8. Write a program to demonstrate the use of logical operators\n",
        "\n",
        "# Define some values\n",
        "a = True\n",
        "b = False\n",
        "\n",
        "# Using logical AND\n",
        "print(\"a and b =\", a and b)\n",
        "\n",
        "# Using logical OR\n",
        "print(\"a or b =\", a or b)\n",
        "\n",
        "# Using logical NOT\n",
        "print(\"not a =\", not a)\n",
        "print(\"not b =\", not b)\n"
      ],
      "metadata": {
        "colab": {
          "base_uri": "https://localhost:8080/"
        },
        "id": "uNU9g4SKZ0X_",
        "outputId": "49dd2cbb-9c03-486c-a658-467db524a9b2"
      },
      "execution_count": 14,
      "outputs": [
        {
          "output_type": "stream",
          "name": "stdout",
          "text": [
            "a and b = False\n",
            "a or b = True\n",
            "not a = False\n",
            "not b = True\n"
          ]
        }
      ]
    },
    {
      "cell_type": "code",
      "source": [
        "# Q9. Write a Python program to convert user input from string to integer, float, and boolean types\n",
        "\n",
        "# Taking input as string\n",
        "user_input = input(\"Enter any value: \")\n",
        "\n",
        "# Convert to integer\n",
        "try:\n",
        "    int_value = int(user_input)\n",
        "    print(\"Integer:\", int_value)\n",
        "except ValueError:\n",
        "    print(\"Cannot convert to Integer\")\n",
        "\n",
        "# Convert to float\n",
        "try:\n",
        "    float_value = float(user_input)\n",
        "    print(\"Float:\", float_value)\n",
        "except ValueError:\n",
        "    print(\"Cannot convert to Float\")\n",
        "\n",
        "# Convert to boolean\n",
        "bool_value = bool(user_input)\n",
        "print(\"Boolean:\", bool_value)\n"
      ],
      "metadata": {
        "colab": {
          "base_uri": "https://localhost:8080/"
        },
        "id": "SH3w2oy8aXL5",
        "outputId": "6a18dabc-a51b-4215-d242-e3f06fdf028e"
      },
      "execution_count": 16,
      "outputs": [
        {
          "output_type": "stream",
          "name": "stdout",
          "text": [
            "Enter any value: 42\n",
            "Integer: 42\n",
            "Float: 42.0\n",
            "Boolean: True\n"
          ]
        }
      ]
    },
    {
      "cell_type": "code",
      "source": [
        "# Q10. Write code to demonstrate type casting with list elements\n",
        "\n",
        "# Original list of strings\n",
        "string_list = [\"1\", \"2\", \"3\", \"4\"]\n",
        "\n",
        "# Convert each element to integer using list comprehension\n",
        "int_list = [int(item) for item in string_list]\n",
        "\n",
        "# Print both lists\n",
        "print(\"Original (string) list:\", string_list)\n",
        "print(\"After type casting to integers:\", int_list)\n"
      ],
      "metadata": {
        "colab": {
          "base_uri": "https://localhost:8080/"
        },
        "id": "K4EO35R3ak5l",
        "outputId": "0d404fcf-af8d-4143-edf5-2fbeaaa11eef"
      },
      "execution_count": 17,
      "outputs": [
        {
          "output_type": "stream",
          "name": "stdout",
          "text": [
            "Original (string) list: ['1', '2', '3', '4']\n",
            "After type casting to integers: [1, 2, 3, 4]\n"
          ]
        }
      ]
    },
    {
      "cell_type": "code",
      "source": [
        "# Q11. Write a program that checks if a number is positive, negative, or zero\n",
        "\n",
        "# Take input from user\n",
        "num = float(input(\"Enter a number: \"))\n",
        "\n",
        "# Check conditions\n",
        "if num > 0:\n",
        "    print(\"The number is positive.\")\n",
        "elif num < 0:\n",
        "    print(\"The number is negative.\")\n",
        "else:\n",
        "    print(\"The number is zero.\")\n"
      ],
      "metadata": {
        "colab": {
          "base_uri": "https://localhost:8080/"
        },
        "id": "kC9Z-Jo5ati7",
        "outputId": "c2d35d73-42ee-4596-9c42-e3b087403ea0"
      },
      "execution_count": 18,
      "outputs": [
        {
          "output_type": "stream",
          "name": "stdout",
          "text": [
            "Enter a number: 7\n",
            "The number is positive.\n"
          ]
        }
      ]
    },
    {
      "cell_type": "code",
      "source": [
        "# Q12. Write a for loop to print numbers from 1 to 10\n",
        "\n",
        "for i in range(1, 11):\n",
        "    print(i)\n"
      ],
      "metadata": {
        "colab": {
          "base_uri": "https://localhost:8080/"
        },
        "id": "uCplvOLZa7MF",
        "outputId": "285fd65c-0a1b-4eb0-be8a-fe88b93f47d1"
      },
      "execution_count": 19,
      "outputs": [
        {
          "output_type": "stream",
          "name": "stdout",
          "text": [
            "1\n",
            "2\n",
            "3\n",
            "4\n",
            "5\n",
            "6\n",
            "7\n",
            "8\n",
            "9\n",
            "10\n"
          ]
        }
      ]
    },
    {
      "cell_type": "code",
      "source": [
        "# Q13. Write a Python program to find the sum of all even numbers between 1 and 50\n",
        "\n",
        "even_sum = 0\n",
        "\n",
        "for num in range(1, 51):\n",
        "    if num % 2 == 0:\n",
        "        even_sum += num\n",
        "\n",
        "print(\"The sum of all even numbers from 1 to 50 is:\", even_sum)\n"
      ],
      "metadata": {
        "colab": {
          "base_uri": "https://localhost:8080/"
        },
        "id": "Pwstc0jVbDT3",
        "outputId": "414e0599-93d1-4ff4-a5fc-f108a0d30c40"
      },
      "execution_count": 20,
      "outputs": [
        {
          "output_type": "stream",
          "name": "stdout",
          "text": [
            "The sum of all even numbers from 1 to 50 is: 650\n"
          ]
        }
      ]
    },
    {
      "cell_type": "code",
      "source": [
        "# Q14. Write a program to reverse a string using a while loop\n",
        "\n",
        "# Take input from user\n",
        "original_str = input(\"Enter a string: \")\n",
        "reversed_str = \"\"\n",
        "index = len(original_str) - 1\n",
        "\n",
        "while index >= 0:\n",
        "    reversed_str += original_str[index]\n",
        "    index -= 1\n",
        "\n",
        "print(\"Reversed string:\", reversed_str)\n"
      ],
      "metadata": {
        "colab": {
          "base_uri": "https://localhost:8080/"
        },
        "id": "3TmM6_WBbM-_",
        "outputId": "714c0961-94ae-42f2-b08f-16f3028bb4bd"
      },
      "execution_count": 21,
      "outputs": [
        {
          "output_type": "stream",
          "name": "stdout",
          "text": [
            "Enter a string: hello\n",
            "Reversed string: olleh\n"
          ]
        }
      ]
    },
    {
      "cell_type": "code",
      "source": [
        "# Q15. Write a Python program to calculate the factorial of a number using a while loop\n",
        "\n",
        "num = int(input(\"Enter a number: \"))\n",
        "factorial = 1\n",
        "\n",
        "if num < 0:\n",
        "    print(\"Factorial does not exist for negative numbers.\")\n",
        "else:\n",
        "    i = 1\n",
        "    while i <= num:\n",
        "        factorial *= i\n",
        "        i += 1\n",
        "    print(f\"The factorial of {num} is: {factorial}\")\n"
      ],
      "metadata": {
        "colab": {
          "base_uri": "https://localhost:8080/"
        },
        "id": "WvLow0qMbcwX",
        "outputId": "b3d9c27d-29e8-4338-e529-0e0bf2f7b2fe"
      },
      "execution_count": 23,
      "outputs": [
        {
          "output_type": "stream",
          "name": "stdout",
          "text": [
            "Enter a number: 0\n",
            "The factorial of 0 is: 1\n"
          ]
        }
      ]
    }
  ]
}